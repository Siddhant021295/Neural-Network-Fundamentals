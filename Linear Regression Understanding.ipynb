{
 "cells": [
  {
   "cell_type": "markdown",
   "id": "a9ed22a7",
   "metadata": {},
   "source": [
    "# Introduction\n",
    "\n",
    "This script will walk you through the process of fitting a linear model using polynomial basis functions, and the selection of a hyper-parameter using a validation data set.\n",
    "\n",
    "# Data Generation\n",
    "\n",
    "The following section of the code generates the training and testing sets using the simple model\n",
    "$$ y = f(x) + \\epsilon = 5x(x-0.5)(x-1) + \\epsilon$$\n",
    "where $\\epsilon \\sim N(0,0.2)$ is a Gaussian noise term with zero mean and standard deviation equal to 0.2."
   ]
  },
  {
   "cell_type": "code",
   "execution_count": 3,
   "id": "30fd76c5",
   "metadata": {},
   "outputs": [
    {
     "data": {
      "image/png": "[encoded data removed]",
      "text/plain": [
       "<Figure size 432x288 with 1 Axes>"
      ]
     },
     "metadata": {
      "needs_background": "light"
     },
     "output_type": "display_data"
    }
   ],
   "source": [
    "import numpy as np\n",
    "import matplotlib.pyplot as plt\n",
    "\n",
    "# Defining data generation model\n",
    "def f(x):\n",
    "    return 5*(x-0)*(x-0.5)*(x-1)\n",
    "\n",
    "# Defining std of noise\n",
    "stdNoise = 0.2;\n",
    "\n",
    "# Setting a seed for random number generator\n",
    "rng = np.random.default_rng(seed=42)\n",
    "\n",
    "# Generating training, validation and test data\n",
    "N = 80\n",
    "x_train = rng.random(N)\n",
    "y_train = f(x_train)+stdNoise*rng.normal(size=N)\n",
    "\n",
    "N = 20\n",
    "x_test = rng.random(N)\n",
    "y_test = f(x_test)+stdNoise*rng.normal(size=N)\n",
    "\n",
    "# Plotting data purely for verification\n",
    "plt.plot(x_train,y_train,'k.',x_test,y_test,'r.')\n",
    "plt.xlabel('x')\n",
    "plt.ylabel('y')\n",
    "plt.legend({'Training','Testing'})\n",
    "plt.show()"
   ]
  },
  {
   "cell_type": "markdown",
   "id": "a57f5a50",
   "metadata": {},
   "source": [
    "# Functions for Fitting a Polynomial to the Data\n",
    "\n",
    "The functions below provide an implementation of a linear fitting of monomials to the data."
   ]
  },
  {
   "cell_type": "code",
   "execution_count": 5,
   "id": "528b3e23",
   "metadata": {},
   "outputs": [],
   "source": [
    "# Function that creates the X matrix as defined for fitting our model\n",
    "def create_X(x,deg):\n",
    "    X = np.ones((len(x),deg+1))\n",
    "    for i in range(1,deg+1):\n",
    "        X[:,i] = x**i\n",
    "    return X\n",
    "\n",
    "# Function for predicting the response\n",
    "def predict(x,beta):\n",
    "    return np.dot(create_X(x,len(beta)-1),beta)\n",
    "\n",
    "# Function for fitting the model\n",
    "def fit(x,y,deg):\n",
    "    return np.linalg.lstsq(create_X(x,deg),y,rcond=None)[0]\n",
    "\n",
    "# Function for computing the MSE\n",
    "def rmse(y,yPred):\n",
    "    se = (y-yPred)**2\n",
    "    return np.sqrt(np.mean(se))\n"
   ]
  },
  {
   "cell_type": "markdown",
   "id": "4a0e8ec1",
   "metadata": {},
   "source": [
    "# Hyper-Parameter Selection using Polynomial Fitting\n",
    "\n",
    "This section illustrates how to perform hyper-parameter selection where the capacity of the model is captured by the degree of the polynomial used for fitting.\n",
    "\n",
    "First, we fit the data to the entire training set and compute the corresponding training and test errors. We used all of the data since we are not performing any hyper-parameter selection at this point."
   ]
  },
  {
   "cell_type": "code",
   "execution_count": 6,
   "id": "977602df",
   "metadata": {},
   "outputs": [
    {
     "name": "stdout",
     "output_type": "stream",
     "text": [
      "Training Error = 0.205\n",
      "Test Error = 0.241\n"
     ]
    },
    {
     "data": {
      "image/png": "[encoded data removed]",
      "text/plain": [
       "<Figure size 432x288 with 1 Axes>"
      ]
     },
     "metadata": {
      "needs_background": "light"
     },
     "output_type": "display_data"
    }
   ],
   "source": [
    "# Fitting model\n",
    "deg = 2\n",
    "beta = fit(x_train,y_train,deg)\n",
    "\n",
    "# Computing training error\n",
    "y_train_pred = predict(x_train,beta)\n",
    "err = rmse(y_train,y_train_pred)\n",
    "print('Training Error = {:2.3}'.format(err))\n",
    "\n",
    "# Computing test error\n",
    "y_test_pred = predict(x_test,beta)\n",
    "err = rmse(y_test,y_test_pred)\n",
    "print('Test Error = {:2.3}'.format(err))\n",
    "\n",
    "# Plotting fitted model\n",
    "x = np.linspace(0,1,100)\n",
    "y = predict(x,beta)\n",
    "plt.plot(x,y,'b-',x_train,y_train,'ks',x_test,y_test,'rs')\n",
    "plt.legend(['Prediction','Training Points','Test Points'])\n",
    "plt.show()"
   ]
  },
  {
   "cell_type": "markdown",
   "id": "e269bf2e",
   "metadata": {},
   "source": [
    "## Data Preparation\n",
    "\n",
    "Spliting the data into pre-val training and validation. Using last 30 samples for validation and the rest of the pre-validation training set. Keeping all measurements in the same order as the original training set. Making sure the variables specified below are used for this purpose."
   ]
  },
  {
   "cell_type": "code",
   "execution_count": 7,
   "id": "d14d268d",
   "metadata": {},
   "outputs": [],
   "source": [
    "x_preval, y_preval = [], []\n",
    "x_val, y_val = [],[]\n",
    "\n",
    "x_preval, y_preval = x_train[:len(x_train)-30], y_train[:len(x_train)-30]\n",
    "x_val, y_val = x_train[len(x_train)-30:], y_train[len(x_train)-30:]\n"
   ]
  },
  {
   "cell_type": "code",
   "execution_count": 8,
   "id": "a4317424",
   "metadata": {},
   "outputs": [],
   "source": [
    "\"\"\"Check that the dimensions are correct and the correct data is included in each variable\"\"\"\n",
    "assert len(x_val)==30\n",
    "assert len(y_val)==30\n",
    "assert len(x_preval)==len(x_train)-30\n",
    "assert len(y_preval)==len(y_train)-30\n",
    "assert x_val[-1]==x_train[-1]\n",
    "assert y_val[-1]==y_train[-1]\n",
    "assert x_preval[0]==x_train[0]\n",
    "assert y_preval[0]==y_train[0]"
   ]
  },
  {
   "cell_type": "markdown",
   "id": "4d5d6ca5",
   "metadata": {},
   "source": [
    "## Using the Model defined above\n",
    "Next, computing training and validation errors for each of the listed degrees. The training error should show a decreasing pattern. The validation error should decrease and then increase."
   ]
  },
  {
   "cell_type": "code",
   "execution_count": 9,
   "id": "59b0cc67",
   "metadata": {},
   "outputs": [
    {
     "data": {
      "image/png": "[encoded data removed]",
      "text/plain": [
       "<Figure size 432x288 with 1 Axes>"
      ]
     },
     "metadata": {
      "needs_background": "light"
     },
     "output_type": "display_data"
    }
   ],
   "source": [
    "# List of degrees considered for the analysis\n",
    "degList =  [0,1,2,3,4,5,6,7,8,9,10]\n",
    "\n",
    "# Initializing range of degree values to be tested and errors\n",
    "errTrain = np.zeros(len(degList))\n",
    "errVal = np.zeros(len(degList))\n",
    "\n",
    "# Computing training and validation RMSE errors for each degree value\n",
    "\n",
    "# YOUR CODE HERE\n",
    "for x in degList:\n",
    "  beta = fit(x_preval,y_preval,x)\n",
    "\n",
    "  y_train_pred = predict(x_preval,beta)\n",
    "  errTrain[x]=(rmse(y_preval,y_train_pred))\n",
    "\n",
    "  y_test_pred = predict(x_val,beta)\n",
    "  errVal[x] = rmse(y_val,y_test_pred)\n",
    "  \n",
    "\n",
    "# Plotting results\n",
    "plt.plot(degList,errTrain,'b.-',degList,errVal,'r.-')\n",
    "plt.xlabel('degree')\n",
    "plt.ylabel('RMSE')\n",
    "plt.legend(['Pre-Validation Training Error','Validation Training Error'])\n",
    "plt.show()"
   ]
  },
  {
   "cell_type": "code",
   "execution_count": null,
   "id": "55c3a14a",
   "metadata": {},
   "outputs": [],
   "source": [
    "\"\"\"Check that the correct trends and the correct values are present\"\"\"\n",
    "assert -np.max(np.diff(errTrain))>0 ### Checking for monotonicity of training error\n",
    "assert -np.min(np.diff(errVal))>0 ### Checking for some decreasing trend in the validation error\n",
    "assert np.max(np.diff(errVal))>0 ### Checking for some increasing tred in the validation error\n",
    "assert np.abs(min(errTrain)-0.14)<1e-2 ### Checking the minimum of the training error\n",
    "assert np.abs(min(errVal)-0.22)<1e-2 ### Checking the minimum of the testing error\n"
   ]
  },
  {
   "cell_type": "markdown",
   "id": "c34a8676",
   "metadata": {},
   "source": [
    "## Performance of Optimal Model\n",
    "We are demonstrating the performance of the model by comparing the error when training with only the pre-validation training data, and with the training and validation data after the hyper-parameter has already been selected.\n",
    "\n"
   ]
  },
  {
   "cell_type": "code",
   "execution_count": 12,
   "id": "ec251073",
   "metadata": {},
   "outputs": [
    {
     "name": "stdout",
     "output_type": "stream",
     "text": [
      "Optimal Degree = 3\n",
      "Test Error [Preval Dataset Only] = 0.216\n",
      "Test Error [Full Training Dataset] = 0.214\n"
     ]
    },
    {
     "data": {
      "image/png": "[encoded data removed]",
      "text/plain": [
       "<Figure size 432x288 with 1 Axes>"
      ]
     },
     "metadata": {
      "needs_background": "light"
     },
     "output_type": "display_data"
    }
   ],
   "source": [
    "# Selecting optimal degree\n",
    "degOpt = degList[np.argmin(errVal)]\n",
    "print('Optimal Degree = {:1}'.format(degOpt))\n",
    "\n",
    "# Initializing variable for the error using only the pre-validation training set\n",
    "errTest_PreVal = []\n",
    "\n",
    "# Initializing variable for the error using only the full training set\n",
    "errTest_FullTrain = []\n",
    "\n",
    "# YOUR CODE HERE\n",
    "# Computing pre-validation training error\n",
    "beta_val = fit(x_preval,y_preval,degOpt)\n",
    "y_val_pred = predict(x_test,beta_val)\n",
    "errTest_PreVal = rmse(y_test,y_val_pred)\n",
    "\n",
    "# Computing Full training Error\n",
    "beta_train = fit(x_train,y_train,degOpt)\n",
    "y_train_pred = predict(x_test,beta_train)\n",
    "errTest_FullTrain = rmse(y_test,y_train_pred)\n",
    "\n",
    "# Printing results\n",
    "print('Test Error [Preval Dataset Only] = {:2.3}'.format(errTest_PreVal))\n",
    "print('Test Error [Full Training Dataset] = {:2.3}'.format(errTest_FullTrain))\n",
    "\n",
    "# Plotting fitted model\n",
    "x = np.linspace(0,1,100)\n",
    "y = predict(x,beta_train) # Use the beta from the full training set for better visualization\n",
    "plt.plot(x,y,'b-',x_train,y_train,'ks',x_test,y_test,'rs')\n",
    "plt.legend(['Prediction','Training Points','Test Points'])\n",
    "plt.show()"
   ]
  },
  {
   "cell_type": "code",
   "execution_count": null,
   "id": "8afc4b93",
   "metadata": {},
   "outputs": [],
   "source": [
    "\"\"\"Check that the correct values are present\"\"\"\n",
    "assert errTest_PreVal>errTest_FullTrain # The full-training set error should be lower\n"
   ]
  }
 ],
 "metadata": {
  "kernelspec": {
   "display_name": "Python 3",
   "language": "python",
   "name": "python3"
  },
  "language_info": {
   "codemirror_mode": {
    "name": "ipython",
    "version": 3
   },
   "file_extension": ".py",
   "mimetype": "text/x-python",
   "name": "python",
   "nbconvert_exporter": "python",
   "pygments_lexer": "ipython3",
   "version": "3.8.8"
  }
 },
 "nbformat": 4,
 "nbformat_minor": 5
}
